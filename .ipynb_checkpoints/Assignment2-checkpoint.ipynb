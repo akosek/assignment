{
 "cells": [
  {
   "cell_type": "code",
   "execution_count": 31,
   "metadata": {},
   "outputs": [],
   "source": [
    "import networkx as nx\n",
    "import numpy as np\n",
    "import re, io, json, os, urllib, urllib2, operator, requests, math\n",
    "import matplotlib.pyplot as plt\n",
    "from __future__ import division\n",
    "import nltk\n",
    "from os import listdir\n",
    "from os.path import isfile, join\n",
    "import cPickle as pickle\n",
    "from __future__ import division\n",
    "%matplotlib inline"
   ]
  },
  {
   "cell_type": "markdown",
   "metadata": {},
   "source": [
    "# Part 1 Comunity Structure "
   ]
  },
  {
   "cell_type": "markdown",
   "metadata": {},
   "source": [
    "# Part 2 Human navigation paths"
   ]
  },
  {
   "cell_type": "markdown",
   "metadata": {},
   "source": [
    "We need to start from creating wikispeedia graph:"
   ]
  },
  {
   "cell_type": "code",
   "execution_count": 2,
   "metadata": {
    "collapsed": true
   },
   "outputs": [],
   "source": [
    "# Open file and create graph\n",
    "wikispeedia_graph = nx.DiGraph()\n",
    "f = io.open('../week8/wikigame/links.tsv', 'r', encoding='utf-8')\n",
    "for line in f:\n",
    "    # split on tabs\n",
    "    links = line.split('\\t')\n",
    "    \n",
    "    # skip all retrieved information that is not an edge\n",
    "    if len(links) != 2:\n",
    "        continue\n",
    "    \n",
    "    # find the out going and incoming node and convert from HTML UTF to a str\n",
    "    # This will remove all %A2C% from the string for example\n",
    "    out_node = urllib.unquote(str(links[0])).decode('utf8')\n",
    "    in_node = urllib.unquote(str(links[1]).replace('\\n','')).decode('utf8')\n",
    "    \n",
    "    # create the graph by adding edges\n",
    "    wikispeedia_graph.add_edge(out_node,in_node)\n",
    "    \n",
    "# close the file\n",
    "f.close()"
   ]
  },
  {
   "cell_type": "markdown",
   "metadata": {},
   "source": [
    "## IIa Path lengths:"
   ]
  },
  {
   "cell_type": "markdown",
   "metadata": {},
   "source": [
    "**For each source/target pair in the list of human navigation paths, calculate the shortest path using NetworkX. Plot the distribution of path lengths.**"
   ]
  },
  {
   "cell_type": "code",
   "execution_count": 3,
   "metadata": {
    "collapsed": true
   },
   "outputs": [],
   "source": [
    "# Path Length between each node\n",
    "path_lengths = nx.shortest_path_length(wikispeedia_graph)"
   ]
  },
  {
   "cell_type": "code",
   "execution_count": 4,
   "metadata": {},
   "outputs": [
    {
     "data": {
      "image/png": "[encoded data removed]",
      "text/plain": [
       "<matplotlib.figure.Figure at 0x11378f650>"
      ]
     },
     "metadata": {},
     "output_type": "display_data"
    }
   ],
   "source": [
    "# create a list to hold all the path lengths retrieved from the wikispediagraph\n",
    "all_path_lengths = []\n",
    "\n",
    "# path_lengths is a dict containing another dict\n",
    "#networkx: path[source][target]=L, L - the length of the shortest path\n",
    "for source, targets in path_lengths.iteritems():\n",
    "    # get a list of all path lengths\n",
    "    l = targets.values()\n",
    "    all_path_lengths.extend(l)\n",
    "\n",
    "#Distributions\n",
    "min_length = min(all_path_lengths)\n",
    "max_length = max(all_path_lengths)\n",
    "\n",
    "bins = [num for num in range(min_length,max_length+1)]\n",
    "hist, bin_edges = np.histogram(all_path_lengths, bins)\n",
    "\n",
    "plt.figure(figsize=(10,6))\n",
    "plt.plot(bin_edges[:-1], hist, 'b-')\n",
    "plt.title('Distribution of Path Lengths for a Directed Graph')\n",
    "plt.ylabel(\"Number of Paths\")\n",
    "plt.xlabel(\"Path Length\")\n",
    "plt.show()"
   ]
  },
  {
   "cell_type": "markdown",
   "metadata": {},
   "source": [
    "**For each source/target pair, calculate the length of the human path. The dataset contains information on people who regret a navigation step and hit the \"back\" button in their web-browser. It's up to you how to incorporate that information in the path. Justify your choice. Plot the distribution of human path lengths.**\n"
   ]
  },
  {
   "cell_type": "code",
   "execution_count": 5,
   "metadata": {
    "collapsed": true
   },
   "outputs": [],
   "source": [
    "#List to hold all lengths of human path\n",
    "human_path_lengths_dict = {}\n",
    "\n",
    "f = io.open('../week8/wikigame/paths_finished.tsv', 'r', encoding='utf-8')\n",
    "\n",
    "#Split on tabs\n",
    "for line in f:\n",
    "    table = line.split()\n",
    "    \n",
    "    #don't include comments\n",
    "    if '#' in table or not table:\n",
    "        continue\n",
    "    # the 4th column contains the path\n",
    "    path = table[3]\n",
    "    \n",
    "    # nodes are semi-colon delimited\n",
    "    nodes = path.split(';')\n",
    "    \n",
    "    source = urllib.unquote(str(nodes[0])).decode('utf8')\n",
    "    target = urllib.unquote(str(nodes[-1])).decode('utf8')\n",
    "    \n",
    "    # if the source and target are the same the game is already over!\n",
    "    # errors being caused when dealing with GNU License\n",
    "    if source == target or 'Wikipedia_Text_of_the_GNU_Free_Documentation_License' in nodes:\n",
    "        continue\n",
    "        \n",
    "    # length is equal to the total number of nodes found minus all the backspaces\n",
    "    length = len(nodes) - nodes.count('<')\n",
    "    \n",
    "    # path[source][target] = length\n",
    "    if source in human_path_lengths_dict:\n",
    "        if target in human_path_lengths_dict[source]:\n",
    "            human_path_lengths_dict[source][target].append(length)\n",
    "        else:\n",
    "            human_path_lengths_dict[source][target] = [length]\n",
    "    else:\n",
    "        human_path_lengths_dict[source] = {target: [length]}\n",
    "    \n",
    "# close file\n",
    "f.close()"
   ]
  },
  {
   "cell_type": "code",
   "execution_count": 7,
   "metadata": {},
   "outputs": [
    {
     "data": {
      "image/png": "[encoded data removed]",
      "text/plain": [
       "<matplotlib.figure.Figure at 0x159589410>"
      ]
     },
     "metadata": {},
     "output_type": "display_data"
    }
   ],
   "source": [
    "# Create list that contains all of the average lengths for each source/target pair\n",
    "all_human_lengths_values = [np.average(lengths) for source, targets in human_path_lengths_dict.iteritems() for target, lengths in targets.iteritems()]\n",
    "\n",
    "# create distributions, use min and max to create bins\n",
    "min_length = int(min(all_human_lengths_values))\n",
    "max_length = int(max(all_human_lengths_values))\n",
    "\n",
    "bins = [num for num in range(min_length,max_length+1)]\n",
    "hist, bin_edges = np.histogram(all_human_lengths_values, bins)\n",
    "\n",
    "plt.figure(figsize=(12,8))\n",
    "plt.loglog(bin_edges[:-1], hist, 'b-')\n",
    "plt.title('Human Path Lengths')\n",
    "plt.ylabel(\"Number of Occurences of Path Length\")\n",
    "plt.xlabel(\"Length of shortest Paths\")\n",
    "plt.show()"
   ]
  },
  {
   "cell_type": "markdown",
   "metadata": {},
   "source": [
    "**How much longer are the human paths on average?**"
   ]
  },
  {
   "cell_type": "code",
   "execution_count": 8,
   "metadata": {},
   "outputs": [
    {
     "name": "stdout",
     "output_type": "stream",
     "text": [
      "Human paths are on average 2.815613 nodes longer than the shortest path\n"
     ]
    }
   ],
   "source": [
    "average_path = np.average(all_path_lengths)\n",
    "average_human_path = np.average(all_human_lengths_values)\n",
    "\n",
    "diference = average_human_path - average_path\n",
    "\n",
    "print \"Human paths are on average %f nodes longer than the shortest path\" % diference"
   ]
  },
  {
   "cell_type": "markdown",
   "metadata": {
    "collapsed": true
   },
   "source": [
    "**Create scatter plot where each point is a source/target pair, and you have human path lengths on the $x$-axis and shortests paths on the $y$-axis.**"
   ]
  },
  {
   "cell_type": "code",
   "execution_count": 9,
   "metadata": {
    "collapsed": true
   },
   "outputs": [],
   "source": [
    "#Create the empty lists for y and z axis\n",
    "y = []  #for shortest path\n",
    "x = []  # for human path lengths\n",
    "\n",
    "for human_source, human_targets in human_path_lengths_dict.iteritems():\n",
    "    \n",
    "    #check if source is in path lengths\n",
    "    if human_source not in path_lengths:\n",
    "        continue\n",
    "        \n",
    "    for human_target, human_lengths in human_targets.iteritems():\n",
    "        human_length = np.average(human_lengths)\n",
    "        x.append(human_length)\n",
    "        \n",
    "        path_length = path_lengths[human_source][human_target]\n",
    "        y.append(path_length)"
   ]
  },
  {
   "cell_type": "code",
   "execution_count": 10,
   "metadata": {},
   "outputs": [
    {
     "data": {
      "image/png": "[encoded data removed]",
      "text/plain": [
       "<matplotlib.figure.Figure at 0x159589e50>"
      ]
     },
     "metadata": {},
     "output_type": "display_data"
    }
   ],
   "source": [
    "#Create scatter plot\n",
    "plt.figure(figsize=(12,6))\n",
    "plt.plot(x,y, 'b.', alpha=0.4)\n",
    "plt.title(\"Human Path Lengths vs Shortest Paths\")\n",
    "plt.xlabel(\"Lengths for Human Path\")\n",
    "plt.ylabel(\"Shortest Paths\")\n",
    "plt.ylim(0,8)\n",
    "plt.show()"
   ]
  },
  {
   "cell_type": "markdown",
   "metadata": {},
   "source": [
    "**Is there a correlation between human/shortest path-lengths? What is the correlation.\n",
    "**"
   ]
  },
  {
   "cell_type": "markdown",
   "metadata": {
    "collapsed": true
   },
   "source": [
    "# TO DO"
   ]
  },
  {
   "cell_type": "markdown",
   "metadata": {},
   "source": [
    "## IIb Betweenness"
   ]
  },
  {
   "cell_type": "markdown",
   "metadata": {},
   "source": [
    "**Begin by calculating the betweenness centrality and navigation centrality of all nodes in the wikispedia dataset. \n",
    "**"
   ]
  },
  {
   "cell_type": "code",
   "execution_count": 11,
   "metadata": {
    "collapsed": true
   },
   "outputs": [],
   "source": [
    "# Calculate betweeness centrality\n",
    "between_centrality = nx.betweenness_centrality(wikispeedia_graph)"
   ]
  },
  {
   "cell_type": "markdown",
   "metadata": {},
   "source": [
    "**List the 5 pages with highest navigation centrality.\n",
    "**"
   ]
  },
  {
   "cell_type": "code",
   "execution_count": 12,
   "metadata": {
    "collapsed": true
   },
   "outputs": [],
   "source": [
    "G = wikispeedia_graph\n",
    "# All shortest path\n",
    "shortest_path_links = nx.shortest_path(G)\n",
    "navigation_path_size = 0\n",
    "\n",
    "navigation_centrality = {}\n",
    "#Each node starts with navigtion_centrality equal 0\n",
    "for node in nx.nodes(G):\n",
    "    navigation_centrality[node] = 0\n",
    "\n",
    "#Incrementing count for current node    \n",
    "for source, targets in shortest_path_links.iteritems():\n",
    "    for target, path in targets.iteritems():\n",
    "        navigation_path_size += 1\n",
    "        for node in path[1:-1]:\n",
    "            navigation_centrality[node] +=1"
   ]
  },
  {
   "cell_type": "code",
   "execution_count": 13,
   "metadata": {
    "collapsed": true
   },
   "outputs": [],
   "source": [
    "for node, centrality in navigation_centrality.iteritems():\n",
    "    navigation_centrality[node] /= navigation_path_size"
   ]
  },
  {
   "cell_type": "markdown",
   "metadata": {},
   "source": [
    "**Listing 5 pages with highest navigation centrality**"
   ]
  },
  {
   "cell_type": "code",
   "execution_count": 14,
   "metadata": {
    "scrolled": true
   },
   "outputs": [
    {
     "name": "stdout",
     "output_type": "stream",
     "text": [
      "Top 5 pages with the highest Navigation Centrality:\n",
      "The page United_States has navigation centrality equal 0.0980\n",
      "The page United_Kingdom has navigation centrality equal 0.0544\n",
      "The page Europe has navigation centrality equal 0.0361\n",
      "The page England has navigation centrality equal 0.0319\n",
      "The page Canada has navigation centrality equal 0.0224\n"
     ]
    }
   ],
   "source": [
    "#Sorting navigation centrality\n",
    "navigation_centrality_sorted = sorted(navigation_centrality.iteritems(), key=lambda (k,v): -v)\n",
    "\n",
    "print \"Top 5 pages with the highest Navigation Centrality:\"\n",
    "for item in navigation_centrality_sorted[:5]:\n",
    "    print \"The page %s has navigation centrality equal %0.4f\" % item"
   ]
  },
  {
   "cell_type": "markdown",
   "metadata": {},
   "source": [
    "**List the 5 pages with highest betweenness centrality.\n",
    "**"
   ]
  },
  {
   "cell_type": "code",
   "execution_count": 15,
   "metadata": {},
   "outputs": [
    {
     "name": "stdout",
     "output_type": "stream",
     "text": [
      "Top 5 pages with the highest Betweennes Centrality:\n",
      "The page United_States has a betweenness centrality equal 0.0941\n",
      "The page United_Kingdom has a betweenness centrality equal 0.0424\n",
      "The page England has a betweenness centrality equal 0.0324\n",
      "The page Europe has a betweenness centrality equal 0.0270\n",
      "The page Africa has a betweenness centrality equal 0.0242\n"
     ]
    }
   ],
   "source": [
    "#Sorting betweenness centrality\n",
    "betweenes_centrality_sorted = sorted(between_centrality.iteritems(), key=lambda (k,v): -v)\n",
    "\n",
    "print \"Top 5 pages with the highest Betweennes Centrality:\"\n",
    "for item in betweenes_centrality_sorted[:5]:\n",
    "    print \"The page %s has a betweenness centrality equal %0.4f\" % item"
   ]
  },
  {
   "cell_type": "markdown",
   "metadata": {},
   "source": [
    "**Compare the two lists. Explain the differences between the two lists in your own words.\n",
    "**"
   ]
  },
  {
   "cell_type": "markdown",
   "metadata": {},
   "source": [
    "The top 5 pages are the same on two lists, however we can observe that navigation centrality, in majority of printed articles, tends to be higher than betweenness centrality."
   ]
  },
  {
   "cell_type": "markdown",
   "metadata": {},
   "source": [
    "**Create a scatterplot of betweenness centrality vs. navigation centrality.\n",
    "**"
   ]
  },
  {
   "cell_type": "code",
   "execution_count": 16,
   "metadata": {
    "collapsed": true
   },
   "outputs": [],
   "source": [
    "#Create the empty lists for y and z axis\n",
    "navigation_centralities = []  # y axis\n",
    "between_centralities = []  # x axis\n",
    "\n",
    "for node, bw_centrality in between_centrality.iteritems():\n",
    "    between_centralities.append(bw_centrality)\n",
    "    navigation_centralities.append(navigation_centrality[node])"
   ]
  },
  {
   "cell_type": "code",
   "execution_count": 17,
   "metadata": {},
   "outputs": [
    {
     "data": {
      "image/png": "[encoded data removed]",
      "text/plain": [
       "<matplotlib.figure.Figure at 0x15a7eff90>"
      ]
     },
     "metadata": {},
     "output_type": "display_data"
    }
   ],
   "source": [
    "#Create a scatterplot\n",
    "plt.figure(figsize=(12,8))\n",
    "plt.scatter(between_centralities, navigation_centralities, alpha=0.4)\n",
    "plt.title('Scatter plot of Betweenness Bentrality vs Navigation Centrality')\n",
    "plt.ylabel(\"Navigation Centrality\")\n",
    "plt.xlabel(\"Betweenness Centrality\")\n",
    "plt.show()"
   ]
  },
  {
   "cell_type": "markdown",
   "metadata": {},
   "source": [
    "**Let's explore the pages that have navigation centrality equal to zero. How many pages have zero navigation centrality?\n",
    "**"
   ]
  },
  {
   "cell_type": "code",
   "execution_count": 18,
   "metadata": {},
   "outputs": [
    {
     "name": "stdout",
     "output_type": "stream",
     "text": [
      "569 pages have navigation centrality equal to zero\n"
     ]
    }
   ],
   "source": [
    "navigation_with_zero = [node for node, value in navigation_centrality.iteritems() if value == 0 ]\n",
    "\n",
    "print \"%s pages have navigation centrality equal to zero\" % len(navigation_with_zero)"
   ]
  },
  {
   "cell_type": "markdown",
   "metadata": {},
   "source": [
    "**What is the the page with zero navigation centrality and highest betweenness centrality?**"
   ]
  },
  {
   "cell_type": "code",
   "execution_count": 19,
   "metadata": {
    "collapsed": true
   },
   "outputs": [],
   "source": [
    "#Starting with highest betweenness centrality equal to 0\n",
    "highest_between_centrality = 0\n",
    "page_zero_highest = '' # page with highest betweenness centrality and zero nav centrality"
   ]
  },
  {
   "cell_type": "code",
   "execution_count": 20,
   "metadata": {
    "collapsed": true
   },
   "outputs": [],
   "source": [
    "for page in navigation_with_zero:\n",
    "    this_page_btw_centrality = between_centrality[page]\n",
    "    if this_page_btw_centrality >= highest_between_centrality:\n",
    "        highest_between_centrality = this_page_btw_centrality\n",
    "        page_zero_highest = page"
   ]
  },
  {
   "cell_type": "code",
   "execution_count": 21,
   "metadata": {},
   "outputs": [
    {
     "name": "stdout",
     "output_type": "stream",
     "text": [
      "The page with zero navgation centrality and the highest betweenness centrality is Brabantian with 0.000009 betweenness centrality\n"
     ]
    }
   ],
   "source": [
    "print \"The page with zero navgation centrality and the highest betweenness centrality is %s with %f betweenness centrality\" % (page_zero_highest, highest_between_centrality )"
   ]
  },
  {
   "cell_type": "markdown",
   "metadata": {},
   "source": [
    "**Can you explain why the page is central in the actual link network? (For example, you can take a look at the degree of the node).**"
   ]
  },
  {
   "cell_type": "markdown",
   "metadata": {
    "collapsed": true
   },
   "source": [
    "# TO DO"
   ]
  },
  {
   "cell_type": "markdown",
   "metadata": {},
   "source": [
    "**Plot the distribution of betweenness centrality for the pages with zero navigation centrality.**"
   ]
  },
  {
   "cell_type": "code",
   "execution_count": 22,
   "metadata": {
    "collapsed": true
   },
   "outputs": [],
   "source": [
    "nav_pages_zero_values = map(lambda k: between_centrality[k], navigation_with_zero)\n",
    "\n",
    "nav_pages_zero_hist, nav_pages_zero_bin = np.histogram(nav_pages_zero_values)"
   ]
  },
  {
   "cell_type": "code",
   "execution_count": 23,
   "metadata": {},
   "outputs": [
    {
     "data": {
      "text/plain": [
       "<matplotlib.text.Text at 0x15a18ce90>"
      ]
     },
     "execution_count": 23,
     "metadata": {},
     "output_type": "execute_result"
    },
    {
     "data": {
      "image/png": "[encoded data removed]",
      "text/plain": [
       "<matplotlib.figure.Figure at 0x15a486510>"
      ]
     },
     "metadata": {},
     "output_type": "display_data"
    }
   ],
   "source": [
    "plt.figure(figsize=(10,7))\n",
    "plt.loglog(nav_pages_zero_bin[:-1], nav_pages_zero_hist, 'b')\n",
    "plt.xlabel('Betweenness centrality')\n",
    "plt.ylabel('Number of occurences')\n",
    "plt.title('Log plot for the distribution of betweenness for the pages with zero navigation centrality')"
   ]
  },
  {
   "cell_type": "markdown",
   "metadata": {},
   "source": [
    "Now, let's throw out all pages with zero navigation centrality and compare navigation- and betweenness centrality for the remaining pages."
   ]
  },
  {
   "cell_type": "code",
   "execution_count": 24,
   "metadata": {
    "collapsed": true
   },
   "outputs": [],
   "source": [
    "not_zero_nav_centrality = []\n",
    "not_zero_bw_centrality =[]\n",
    "\n",
    "for node, centrality in navigation_centrality.iteritems():\n",
    "    if node not in navigation_with_zero:\n",
    "        not_zero_nav_centrality.append(centrality)\n",
    "        not_zero_bw_centrality.append(between_centrality[node])       "
   ]
  },
  {
   "cell_type": "code",
   "execution_count": 25,
   "metadata": {},
   "outputs": [
    {
     "data": {
      "text/plain": [
       "<matplotlib.text.Text at 0x1e1943090>"
      ]
     },
     "execution_count": 25,
     "metadata": {},
     "output_type": "execute_result"
    },
    {
     "data": {
      "image/png": "[encoded data removed]",
      "text/plain": [
       "<matplotlib.figure.Figure at 0x15a1cfc10>"
      ]
     },
     "metadata": {},
     "output_type": "display_data"
    }
   ],
   "source": [
    "plt.figure(figsize=(10,7))\n",
    "plt.scatter(not_zero_nav_centrality, not_zero_bw_centrality, alpha=0.4)\n",
    "plt.title(\"Comparison of navigation centrality and betweeness centrality for the pages without zero navigation centrality\")\n",
    "plt.xlabel(\"Betweenness Centrality\")\n",
    "plt.ylabel(\"Navigation Centrality\")"
   ]
  },
  {
   "cell_type": "markdown",
   "metadata": {},
   "source": [
    "**What is the correlation between betweenness centrality and navigation centrality?**"
   ]
  },
  {
   "cell_type": "markdown",
   "metadata": {},
   "source": [
    "In order to see this correlation, we are assuming that there is linear correlation and we have used linear regression and then made plotting the regression line on existing the scatter plot."
   ]
  },
  {
   "cell_type": "code",
   "execution_count": 28,
   "metadata": {},
   "outputs": [
    {
     "data": {
      "image/png": "[encoded data removed]",
      "text/plain": [
       "<matplotlib.figure.Figure at 0x1e200b850>"
      ]
     },
     "metadata": {},
     "output_type": "display_data"
    }
   ],
   "source": [
    "from scipy import stats\n",
    "\n",
    "#Linear regression\n",
    "slope, intercept, r_value, p_value, stand_error = stats.linregress(not_zero_bw_centrality, not_zero_nav_centrality)\n",
    "\n",
    "#Show the orginal scatter plot from previous step\n",
    "plt.figure(figsize=(10,7))\n",
    "plt.scatter(not_zero_nav_centrality, not_zero_bw_centrality, alpha=0.4)\n",
    "plt.title(\"Linear correletation coefficient between betweenness centrality and navigtion centrality\")\n",
    "plt.xlabel(\"Betweenness Centrality\")\n",
    "plt.ylabel(\"Navigation Centrality\")\n",
    "\n",
    "#Plotting linear regression on the existing scatter plot\n",
    "axis = plt.gca()\n",
    "x_axis = np.linspace(axis.get_xlim()[0], axis.get_xlim()[1])\n",
    "#Make the linear line\n",
    "y_axis = intercept + x_axis * slope\n",
    "\n",
    "plt.plot(x_axis, y_axis, color=\"red\", linewidth = 2)\n",
    "plt.show()"
   ]
  },
  {
   "cell_type": "code",
   "execution_count": 29,
   "metadata": {},
   "outputs": [
    {
     "name": "stdout",
     "output_type": "stream",
     "text": [
      "We can observe a linear correlation bewteen the navigation and betweenness centrality, with 0.975945 correlation coefficient.\n"
     ]
    }
   ],
   "source": [
    "print \"We can observe a linear correlation bewteen the navigation and betweenness centrality, with %f correlation coefficient.\" % r_value "
   ]
  },
  {
   "cell_type": "markdown",
   "metadata": {},
   "source": [
    "**Comment on the top 5 outliers.**\n"
   ]
  },
  {
   "cell_type": "markdown",
   "metadata": {
    "collapsed": true
   },
   "source": [
    "# TO DO"
   ]
  },
  {
   "cell_type": "markdown",
   "metadata": {},
   "source": [
    "## IIc: Bringing the text into the picture"
   ]
  },
  {
   "cell_type": "markdown",
   "metadata": {},
   "source": [
    "## H1: Human navigation paths have more similar content than newtwork shortest path"
   ]
  },
  {
   "cell_type": "markdown",
   "metadata": {},
   "source": [
    "**First, create a TF-IDF vector for each page based on the ascii version of the page texts.**"
   ]
  },
  {
   "cell_type": "code",
   "execution_count": 90,
   "metadata": {},
   "outputs": [],
   "source": [
    "# Getting tokens from text, using the function\n",
    "def get_tokens(raw):\n",
    "    tokens = nltk.word_tokenize(raw)\n",
    "    stop_words = nltk.corpus.stopwords.words('english')\n",
    "    \n",
    "    for t in set(tokens):\n",
    "        if t.lower() not in stop_words and t.isalpha():\n",
    "            return t.lower()"
   ]
  },
  {
   "cell_type": "code",
   "execution_count": 93,
   "metadata": {},
   "outputs": [
    {
     "name": "stdout",
     "output_type": "stream",
     "text": [
      "Openning dictionary and saving to file\n"
     ]
    }
   ],
   "source": [
    "tokens = {}\n",
    "directory = '../week8/plaintext_articles'\n",
    "\n",
    "try:\n",
    "    print(\"Openning dictionary and saving to file\")\n",
    "    with open('tokens.pickle', 'rb') as pickle_f:\n",
    "        tokens = pickle.load(pickle_f)\n",
    "        pickle_f.close()\n",
    "        \n",
    "#Exception: If the file doenst exist, create the new one and save it        \n",
    "except Exception as ex:\n",
    "    print (\"Creating dictionary\")\n",
    "    for filename in os.listdir(directory):\n",
    "        f = io.open(directory + '/' + filename, encoding='utf-8')\n",
    "        raw = f.read()\n",
    "        name = urllib.unquote(str(filename.replace('.txt', ''))).decode('utf8')\n",
    "    \n",
    "        tokens[name] = get_tokens(raw)\n",
    "        f.close()\n",
    "        \n",
    "#saving tokens    \n",
    "    with open('tokens.pickle', 'wb') as pickle_f:\n",
    "        pickle.dump(tokens, pickle_f, pickle.HIGHEST_PROTOCOL)\n",
    "        pickle_f.close()"
   ]
  },
  {
   "cell_type": "code",
   "execution_count": 94,
   "metadata": {
    "collapsed": true
   },
   "outputs": [],
   "source": [
    "#Creating dictionary of term frequencies for each word in article\n",
    "\n",
    "names =[name for names in tokens]\n",
    "dict_for_frequency = {}\n",
    "\n",
    "for name, words in tokens.iteritems():\n",
    "    freq_dist = nltk.FreqDist(words)\n",
    "    dict_for_frequency[name] = dict(freq_dist.items())"
   ]
  },
  {
   "cell_type": "code",
   "execution_count": 95,
   "metadata": {},
   "outputs": [
    {
     "name": "stdout",
     "output_type": "stream",
     "text": [
      "4604\n"
     ]
    }
   ],
   "source": [
    "dict_length = len(dict_for_frequency)\n",
    "print dict_length"
   ]
  },
  {
   "cell_type": "code",
   "execution_count": 96,
   "metadata": {},
   "outputs": [
    {
     "name": "stdout",
     "output_type": "stream",
     "text": [
      "Hopman_Cup\n",
      "{u'a': 1, u'h': 1, u'c': 2, u'o': 1}\n"
     ]
    }
   ],
   "source": [
    "test_key = dict_for_frequency.keys()[0]\n",
    "print test_key\n",
    "print dict_for_frequency[test_key]"
   ]
  },
  {
   "cell_type": "code",
   "execution_count": 97,
   "metadata": {},
   "outputs": [
    {
     "name": "stdout",
     "output_type": "stream",
     "text": [
      "The lenght of dictionary with frequency distribition for each article is 4604\n"
     ]
    }
   ],
   "source": [
    "print \"The lenght of dictionary with frequency distribition for each article is %d\" % dict_length"
   ]
  },
  {
   "cell_type": "markdown",
   "metadata": {},
   "source": [
    "**Create dictionary for IDF values for words in all articles**"
   ]
  },
  {
   "cell_type": "code",
   "execution_count": 98,
   "metadata": {
    "collapsed": true
   },
   "outputs": [],
   "source": [
    "idf = {}\n",
    "all_words = []\n",
    "\n",
    "for name, words in tokens.iteritems():\n",
    "    all_words.extend(set(words))\n",
    "\n",
    "words_unique = set(all_words)\n",
    "occurences = dict.fromkeys(words_unique, 0.)\n",
    "\n",
    "# Total number of files \n",
    "N = len(tokens.keys())\n",
    "\n",
    "for word in all_words:\n",
    "    occurences[word] += 1.\n",
    "\n",
    "for word, occurence in occurences.iteritems():\n",
    "    idf[word] = math.log(N/occurence, 10)"
   ]
  },
  {
   "cell_type": "code",
   "execution_count": 99,
   "metadata": {},
   "outputs": [
    {
     "name": "stdout",
     "output_type": "stream",
     "text": [
      "The length of idf is 55\n"
     ]
    }
   ],
   "source": [
    "print \"The length of idf is %d\" % len(idf)"
   ]
  },
  {
   "cell_type": "code",
   "execution_count": 100,
   "metadata": {},
   "outputs": [
    {
     "name": "stdout",
     "output_type": "stream",
     "text": [
      "ā\n",
      "3.36210531929\n"
     ]
    }
   ],
   "source": [
    "test_key= idf.keys()[0]\n",
    "print test_key\n",
    "print idf[test_key]"
   ]
  },
  {
   "cell_type": "markdown",
   "metadata": {},
   "source": [
    "**Create a dictionary TF-IDF values that saves idf for each article**"
   ]
  },
  {
   "cell_type": "code",
   "execution_count": 101,
   "metadata": {
    "collapsed": true
   },
   "outputs": [],
   "source": [
    "tf_idf = {}\n",
    "# Take words for each article\n",
    "for name, words in tokens.iteritems():\n",
    "    tf_idf[name] = {}\n",
    "    \n",
    "    for word in words:\n",
    "        tf_idf[name][word] = dict_for_frequency[name][word] * idf[word]        "
   ]
  },
  {
   "cell_type": "code",
   "execution_count": 102,
   "metadata": {},
   "outputs": [
    {
     "name": "stdout",
     "output_type": "stream",
     "text": [
      "[u'Hopman_Cup', u'Thomas_Cranmer', u'Novelty_(locomotive)']\n"
     ]
    }
   ],
   "source": [
    "print tf_idf.keys()[:3] #Checking the keys"
   ]
  },
  {
   "cell_type": "code",
   "execution_count": 104,
   "metadata": {},
   "outputs": [
    {
     "name": "stdout",
     "output_type": "stream",
     "text": [
      "[(u'a', 0.37893024725596003), (u'h', 1.159344631900573), (u'c', 1.0579164147619755), (u'o', 0.5814280448604049)]\n"
     ]
    }
   ],
   "source": [
    "print tf_idf['Hopman_Cup'].items()[:10]"
   ]
  },
  {
   "cell_type": "code",
   "execution_count": null,
   "metadata": {
    "collapsed": true
   },
   "outputs": [],
   "source": []
  }
 ],
 "metadata": {
  "kernelspec": {
   "display_name": "Python 2",
   "language": "python",
   "name": "python2"
  },
  "language_info": {
   "codemirror_mode": {
    "name": "ipython",
    "version": 2
   },
   "file_extension": ".py",
   "mimetype": "text/x-python",
   "name": "python",
   "nbconvert_exporter": "python",
   "pygments_lexer": "ipython2",
   "version": "2.7.13"
  }
 },
 "nbformat": 4,
 "nbformat_minor": 2
}
